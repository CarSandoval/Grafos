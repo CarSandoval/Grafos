{
 "cells": [
  {
   "cell_type": "markdown",
   "id": "1b40a40d",
   "metadata": {},
   "source": [
    "# 1.5 Aplicación del análisis de complejidad a estructuras de grafos"
   ]
  },
  {
   "cell_type": "markdown",
   "id": "ecc5c7cd",
   "metadata": {},
   "source": [
    "## 1.5.1 Listas de adyacencia"
   ]
  },
  {
   "cell_type": "markdown",
   "id": "0ec61e53",
   "metadata": {},
   "source": [
    "## 1.5.2 Matrices de adyacencia"
   ]
  },
  {
   "cell_type": "markdown",
   "id": "41aa86d8",
   "metadata": {},
   "source": [
    "## 1.5.3 Matrices de incidencia"
   ]
  },
  {
   "cell_type": "markdown",
   "id": "8d350f05",
   "metadata": {},
   "source": [
    "## 1.5.4 Comparación en tiempo y espacio"
   ]
  }
 ],
 "metadata": {
  "language_info": {
   "name": "python"
  }
 },
 "nbformat": 4,
 "nbformat_minor": 5
}
