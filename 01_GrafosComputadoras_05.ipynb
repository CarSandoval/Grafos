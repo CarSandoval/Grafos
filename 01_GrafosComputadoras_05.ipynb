{
 "cells": [
  {
   "cell_type": "markdown",
   "id": "1b40a40d",
   "metadata": {},
   "source": [
    "# 1.5 Aplicación del análisis de complejidad a estructuras de grafos"
   ]
  },
  {
   "cell_type": "markdown",
   "id": "ecc5c7cd",
   "metadata": {},
   "source": [
    "Insertar texto"
   ]
  },
  {
   "cell_type": "markdown",
   "id": "0ec61e53",
   "metadata": {},
   "source": []
  }
 ],
 "metadata": {
  "language_info": {
   "name": "python"
  }
 },
 "nbformat": 4,
 "nbformat_minor": 5
}
