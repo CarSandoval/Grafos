{
 "cells": [
  {
   "cell_type": "markdown",
   "id": "2f4b3274-4f9b-49c9-89af-63ad0d191355",
   "metadata": {},
   "source": [
    "# Introducción"
   ]
  },
  {
   "cell_type": "markdown",
   "id": "e5294f87-d37a-4b5e-9160-c6feb8d34019",
   "metadata": {},
   "source": [
    "# Introducción al Curso: Aplicaciones de Grafos con Python\n",
    "\n",
    "Este curso está diseñado para estudiantes de maestría en matemáticas, ciencia de datos, computación y áreas afines, interesados en el estudio teórico y aplicado de los **grafos** como herramienta para modelar y analizar estructuras complejas. \n",
    "\n",
    "A lo largo de 16 semanas, distribuidas en 32 sesiones, exploraremos desde los fundamentos computacionales y representaciones de grafos en Python hasta aplicaciones avanzadas en análisis de redes, urbanismo, datos geoespaciales y grafos complejos. Se hará énfasis en el uso de bibliotecas especializadas como **NetworkX**, **OSMnx**, **GeoPandas** y **Matplotlib** para modelar, manipular, visualizar y extraer información significativa de estructuras de grafos reales.\n",
    "\n",
    "Además de la parte práctica, el curso incluye el **análisis de complejidad temporal y espacial de los algoritmos** utilizados, lo cual permitirá comprender el comportamiento y la eficiencia de las soluciones implementadas. Esto es fundamental para evaluar la escalabilidad de los métodos en redes de gran tamaño.\n",
    "\n",
    "**Objetivos del curso:**\n",
    "- Comprender los conceptos básicos y avanzados de la teoría de grafos aplicada a problemas reales.\n",
    "- Aprender a representar grafos computacionalmente utilizando Python.\n",
    "- Implementar y analizar algoritmos de grafos, evaluando su complejidad.\n",
    "- Aplicar métodos de análisis y visualización a datos espaciales y redes reales.\n",
    "- Explorar modelos de redes complejas y sus propiedades.\n",
    "\n",
    "**Competencias que desarrollará el estudiante:**\n",
    "- Capacidad para modelar problemas reales mediante grafos.\n",
    "- Habilidad para implementar y ejecutar algoritmos de análisis de redes.\n",
    "- Competencia en el uso de herramientas de Python para análisis y visualización de datos relacionales y geoespaciales.\n",
    "- Comprensión crítica de la eficiencia de los algoritmos y la interpretación de sus resultados.\n",
    "\n",
    "Al finalizar el curso, los estudiantes serán capaces de **desarrollar proyectos de análisis de redes reales**, integrando datos heterogéneos, visualizaciones efectivas y conclusiones basadas en métricas formales y experimentos computacionales.\n",
    "\n",
    "\n",
    "\n",
    "\n",
    "```{tableofcontents}\n",
    "```\n"
   ]
  },
  {
   "cell_type": "markdown",
   "id": "d18c71ee",
   "metadata": {},
   "source": []
  }
 ],
 "metadata": {
  "kernelspec": {
   "display_name": "Python 3 (ipykernel)",
   "language": "python",
   "name": "python3"
  },
  "language_info": {
   "codemirror_mode": {
    "name": "ipython",
    "version": 3
   },
   "file_extension": ".py",
   "mimetype": "text/x-python",
   "name": "python",
   "nbconvert_exporter": "python",
   "pygments_lexer": "ipython3",
   "version": "3.12.9"
  }
 },
 "nbformat": 4,
 "nbformat_minor": 5
}
