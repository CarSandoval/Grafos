{
 "cells": [
  {
   "cell_type": "markdown",
   "id": "1b40a40d",
   "metadata": {},
   "source": [
    "# 1.6 Creación y manipulación en networkx"
   ]
  },
  {
   "cell_type": "markdown",
   "id": "ecc5c7cd",
   "metadata": {},
   "source": [
    "Insertar texto\n"
   ]
  },
  {
   "cell_type": "markdown",
   "id": "0ec61e53",
   "metadata": {},
   "source": []
  }
 ],
 "metadata": {
  "language_info": {
   "name": "python"
  }
 },
 "nbformat": 4,
 "nbformat_minor": 5
}
