{
  "cells": [
    {
      "cell_type": "markdown",
      "metadata": {
        "id": "view-in-github",
        "colab_type": "text"
      },
      "source": [
        "<a href=\"https://colab.research.google.com/github/CarSandoval/Grafos/blob/main/02_AlgoritmosDeGrafosEnPython_01.ipynb\" target=\"_parent\"><img src=\"https://colab.research.google.com/assets/colab-badge.svg\" alt=\"Open In Colab\"/></a>"
      ]
    },
    {
      "cell_type": "markdown",
      "id": "4895d230",
      "metadata": {
        "id": "4895d230"
      },
      "source": [
        "# 2.1 Algotirmo Dijkstra"
      ]
    },
    {
      "cell_type": "markdown",
      "id": "0e0e345c",
      "metadata": {
        "id": "0e0e345c"
      },
      "source": [
        "En la teoría de grafos, el problema del camino más corto consiste en identificar la secuencia de aristas entre dos vértices cuya suma de pesos sea mínima. Este camino óptimo, a veces llamado geodésica, puede no ser único. Su relevancia práctica es amplia, aplicándose, por ejemplo, en la determinación de la ruta más rápida entre ciudades en un mapa, donde las ciudades son los vértices, las carreteras las aristas, y el tiempo de viaje su peso."
      ]
    },
    {
      "cell_type": "markdown",
      "metadata": {
        "id": "d8s1MXb5NWKN"
      },
      "source": [
        "**`Algoritmos de resolución`**\n",
        "Existen diversos algoritmos que permiten solucionar el problema de hallar el camino más corto, a continuación citamos algunos:\n",
        "\n",
        "\n",
        "\n",
        "*   Algoritmo de Bellman - Ford.\n",
        "*   Algoritmo de Búsqueda A*.\n",
        "*   Algoritmo de Floyd - Warshall.\n",
        "*   Algoritmo de Dijkstra.\n",
        "\n",
        "\n",
        "\n"
      ],
      "id": "d8s1MXb5NWKN"
    },
    {
      "cell_type": "markdown",
      "metadata": {
        "id": "STOaWqxINXYR"
      },
      "source": [
        "En esta ocasió vamos a centrarnos en estudiar el último método de resolución llamado *Algoritmo de Dijkstra*\n",
        "\n",
        "## **Algoritmo de Dijkstra**\n",
        "El algoritmo de Dijkstra, también llamado algoritmo de caminos mínimos, es un algoritmo para la determinación del camino más corto, dado un vértice origen, hacia el resto de los vértices en un grafo que tiene pesos en cada arista. Su nombre alude a Edsger Dijkstra, científico de la computación de los Países Bajos que lo concibió en 1956 y lo publicó por primera vez en 1959.\n",
        "\n",
        "# **¿En qué consiste el método?**\n",
        "La idea subyacente en este algoritmo consiste en ir explorando todos los caminos más cortos que parten del vértice origen y que llevan a todos los demás vértices; cuando se obtiene el camino más corto desde el vértice origen hasta el resto de los vértices que componen el grafo, el algoritmo se detiene. Se trata de una especialización de la búsqueda de costo uniforme y, como tal, no funciona en grafos con aristas de coste negativo (al elegir siempre el nodo con distancia menor, pueden quedar excluidos de la búsqueda nodos que en próximas iteraciones bajarían el costo general del camino al pasar por una arista con costo negativo).\n",
        "\n",
        "Algoritmo\n",
        "\n",
        "Teniendo un grafo dirigido ponderado de N nodos no aislados, sea x el nodo inicial.\n",
        "Un vector D de tamaño N guardará al final del algoritmo las distancias desde x hasta el resto de los nodos.\n",
        "\n",
        "1. Inicializar todas las distancias en D con un valor infinito relativo, ya que son desconocidas al principio, exceptuando la de x, que se debe colocar en 0, debido a que la distancia de x a x sería 0.\n",
        "\n",
        "2. Sea $a = x$ (Se toma a como nodo actual).\n",
        "\n",
        "3. Se recorren todos los nodos adyacentes de a, excepto los nodos marcados.\n",
        "Se les llamará nodos no marcados $v_i$.\n",
        "\t​\n",
        "\n",
        "\n",
        "4. Para el nodo actual, se calcula la distancia tentativa desde dicho nodo hasta sus vecinos con la siguiente fórmula:\n",
        "\n",
        "\n",
        "\n",
        "  $dt(vᵢ) = D_a + d(a, vᵢ)$\n",
        "\n",
        "Es decir, la distancia tentativa del nodo vᵢ es la distancia que actualmente tiene el nodo en el vector D más la distancia desde dicho nodo a (el actual) hasta el nodo vᵢ.\n",
        "\n",
        "Si la distancia tentativa es menor que la distancia almacenada en el vector, entonces se actualiza el vector con esta distancia tentativa.\n",
        "Es decir, si $dt(vᵢ) < D_{vᵢ}$, entonces:\n",
        "\n",
        "$  D_{v_i} = \\text{dt}(v_i)$\n",
        "\n",
        "5. Se marca como completo el nodo \\(a\\).\n",
        "\n",
        "6. Se toma como próximo nodo actual el de menor valor en \\(D\\) (puede hacerse almacenando los valores en una cola de prioridad) y se regresa al paso 3, mientras existan nodos no marcados.\n",
        "\n",
        "\n",
        "# **Complejidad**\n",
        "\n",
        "El orden de complejidad del algoritmo es:\n",
        "\n",
        "$O(|V|^2 + |A|) = O(|V|^2)$ \\quad (sin utilizar cola de prioridad),\n",
        "\n",
        "$O((|A| + |V|) \\log |V|) = O(|A| \\log |V|)$  (utilizando cola de prioridad),\n",
        "\n",
        "$O(|V| \\log |V| + |A|)$ (si se utiliza un montículo de Fibonacci).\n",
        "\n",
        "La complejidad computacional del algoritmo de Dijkstra se puede calcular contando las operaciones realizadas:\n",
        "\n",
        "   1. El algoritmo consiste en \\(n-1\\) iteraciones, como máximo.\n",
        "    En cada iteración, se añade un vértice al conjunto distinguido.\n",
        "    \n",
        "  2. En cada iteración, se identifica el vértice con la menor etiqueta entre los que no están en $(S_k)$. El número de estas operaciones está acotado por $n-1$.\n",
        "    \n",
        "  3. Además, se realizan una suma y una comparación para actualizar la etiqueta de cada uno de los vértices que no están en ($S_k$).\n",
        "\n",
        "Luego, en cada iteración se realizan a lo sumo $2(n-1)$ operaciones.\n",
        "\n",
        "\n"
      ],
      "id": "STOaWqxINXYR"
    },
    {
      "cell_type": "markdown",
      "metadata": {
        "id": "tKBh-16FRq4k"
      },
      "source": [
        "# **Teorema**\n",
        "El algoritmo de Dijkstra realiza $O(n^2)$ operaciones (sumas y comparaciones) para determinar la longitud del camino más corto entre dos vértices de un grafo ponderado simple, conexo y no dirigido, con \\(n\\) vértices.\n",
        "\n",
        "En general\n",
        "El tiempo de ejecución puede expresarse como:\n",
        "$O(|A| \\cdot T_{\\text{dk}} + |V| \\cdot T_{\\text{dm}})$\n",
        "\n",
        "donde:\n",
        "\\begin{align*}\n",
        "|A| & : \\text{Número de aristas} \\\\\n",
        "T_{\\text{dk}} & : \\text{Complejidad de disminuir clave} \\\\\n",
        "|V| & : \\text{Número de vértices} \\\\\n",
        "T_{\\text{dm}} & : \\text{Complejidad de extraer mínimo}\n",
        "\\end{align*}\n",
        "\n",
        "\n",
        "\n"
      ],
      "id": "tKBh-16FRq4k"
    },
    {
      "cell_type": "code",
      "source": [
        "import heapq\n",
        "\n",
        "def dijkstra(graph, start, end):\n",
        "    \"\"\"\n",
        "    Calcula el camino más corto en un grafo ponderado con pesos no negativos\n",
        "    usando el Algoritmo de Dijkstra.\n",
        "\n",
        "    Args:\n",
        "        graph (dict): Representación del grafo (diccionario de adyacencia).\n",
        "                      Ej: {'A': [('B', 7), ('D', 5)], ...}\n",
        "        start (str): Nodo de inicio.\n",
        "        end (str): Nodo de destino.\n",
        "\n",
        "    Returns:\n",
        "        tuple: (distancia_corta, camino_corta)\n",
        "               Devuelve (inf, None) si no hay camino.\n",
        "    \"\"\"\n",
        "    # 1. Inicialización\n",
        "    # Distancias: {nodo: distancia_minima}\n",
        "    distances = {node: float('inf') for node in graph}\n",
        "    distances[start] = 0\n",
        "\n",
        "    # Predecesores para reconstruir el camino: {nodo: predecesor}\n",
        "    predecessors = {node: None for node in graph}\n",
        "\n",
        "    # Cola de Prioridad: (distancia, nodo)\n",
        "    # Almacena los nodos a visitar, priorizando el de menor distancia.\n",
        "    priority_queue = [(0, start)]\n",
        "\n",
        "    # 2. Bucle principal\n",
        "    while priority_queue:\n",
        "        # Extraer el nodo con la distancia más pequeña\n",
        "        current_distance, current_node = heapq.heappop(priority_queue)\n",
        "\n",
        "        # Ignorar si ya encontramos un camino más corto (optimización)\n",
        "        if current_distance > distances[current_node]:\n",
        "            continue\n",
        "\n",
        "        # 3. Explorar vecinos\n",
        "        # Los vecinos se representan como tuplas (neighbor, weight)\n",
        "        for neighbor, weight in graph[current_node]:\n",
        "            distance = current_distance + weight\n",
        "\n",
        "            # 4. Relajación (actualizar distancia si encontramos un camino más corto)\n",
        "            if distance < distances[neighbor]:\n",
        "                distances[neighbor] = distance\n",
        "                predecessors[neighbor] = current_node # Guardar el predecesor\n",
        "                heapq.heappush(priority_queue, (distance, neighbor))\n",
        "\n",
        "    # 5. Reconstruir el camino más corto al nodo 'end'\n",
        "    path = []\n",
        "    current = end\n",
        "\n",
        "    # Si la distancia es 'infinito', no hay camino\n",
        "    if distances[end] == float('inf'):\n",
        "        return (float('inf'), None)\n",
        "\n",
        "    while current is not None:\n",
        "        path.append(current)\n",
        "        current = predecessors[current]\n",
        "\n",
        "    # El camino se construyó al revés, lo invertimos\n",
        "    shortest_path = path[::-1]\n",
        "\n",
        "    return (distances[end], shortest_path)\n",
        "\n",
        "# --- Ejemplo de Uso ---\n",
        "\n",
        "# Definición del grafo:\n",
        "# Las claves son los nodos. Los valores son listas de tuplas (vecino, peso de arista).\n",
        "graph_data = {\n",
        "    'A': [('B', 7), ('D', 5)],\n",
        "    'B': [('A', 7), ('C', 8), ('D', 9), ('E', 7)],\n",
        "    'C': [('B', 8), ('E', 5)],\n",
        "    'D': [('A', 5), ('B', 9), ('E', 15), ('F', 6)],\n",
        "    'E': [('B', 7), ('C', 5), ('D', 15), ('F', 8), ('G', 9)],\n",
        "    'F': [('D', 6), ('E', 8), ('G', 11)],\n",
        "    'G': [('E', 9), ('F', 11)]\n",
        "}\n",
        "\n",
        "start_node = 'A'\n",
        "end_node = 'G'\n",
        "\n",
        "shortest_distance, shortest_path = dijkstra(graph_data, start_node, end_node)\n",
        "\n",
        "print(f\"Distancia más corta de {start_node} a {end_node}: {shortest_distance}\")\n",
        "print(f\"Camino más corto: {shortest_path}\")\n",
        "\n",
        "# Ejemplo de un nodo inaccesible (ej. de A a 'Z')\n",
        "# shortest_distance, shortest_path = dijkstra(graph_data, 'A', 'Z')\n",
        "# print(f\"\\nDistancia más corta de A a Z: {shortest_distance}\")\n",
        "# print(f\"Camino más corto: {shortest_path}\")\n"
      ],
      "metadata": {
        "colab": {
          "base_uri": "https://localhost:8080/"
        },
        "id": "xRQedwQvRgFk",
        "outputId": "81e95038-0a13-41b4-f882-bb83223867ce"
      },
      "execution_count": null,
      "outputs": [
        {
          "output_type": "stream",
          "name": "stdout",
          "text": [
            "Distancia más corta de A a G: 22\n",
            "Camino más corto: ['A', 'D', 'F', 'G']\n"
          ]
        }
      ],
      "id": "xRQedwQvRgFk"
    }
  ],
  "metadata": {
    "kernelspec": {
      "display_name": "Python [conda env:base] *",
      "language": "python",
      "name": "conda-base-py"
    },
    "language_info": {
      "codemirror_mode": {
        "name": "ipython",
        "version": 3
      },
      "file_extension": ".py",
      "mimetype": "text/x-python",
      "name": "python",
      "nbconvert_exporter": "python",
      "pygments_lexer": "ipython3",
      "version": "3.12.7"
    },
    "colab": {
      "provenance": [],
      "include_colab_link": true
    }
  },
  "nbformat": 4,
  "nbformat_minor": 5
}