{
  "cells": [
    {
      "cell_type": "markdown",
      "id": "4895d230",
      "metadata": {
        "id": "4895d230"
      },
      "source": [
        "# 2.1 Algotirmo Dijkstra"
      ]
    },
    {
      "cell_type": "markdown",
      "id": "0e0e345c",
      "metadata": {
        "id": "0e0e345c"
      },
      "source": [
        "En la teoría de grafos, el problema del camino más corto consiste en identificar la secuencia de aristas entre dos vértices cuya suma de pesos sea mínima. Este camino óptimo, a veces llamado geodésica, puede no ser único. Su relevancia práctica es amplia, aplicándose, por ejemplo, en la determinación de la ruta más rápida entre ciudades en un mapa, donde las ciudades son los vértices, las carreteras las aristas, y el tiempo de viaje su peso."
      ]
    },
    {
      "cell_type": "markdown",
      "id": "2ed49a6f",
      "metadata": {
        "id": "2ed49a6f"
      },
      "source": [
        "$x+=3$\n",
        "\n",
        "## hola como estas"
      ]
    },
    {
      "cell_type": "code",
      "execution_count": 4,
      "id": "8aa4cda1-edda-4e07-bce1-a381b58e8651",
      "metadata": {
        "colab": {
          "base_uri": "https://localhost:8080/"
        },
        "id": "8aa4cda1-edda-4e07-bce1-a381b58e8651",
        "outputId": "8c7034f1-55bb-4164-ec88-3d4d0bf03e79"
      },
      "outputs": [
        {
          "output_type": "stream",
          "name": "stdout",
          "text": [
            "4\n"
          ]
        }
      ],
      "source": [
        "x=3\n",
        "x=x+1\n",
        "print(x)"
      ]
    }
  ],
  "metadata": {
    "kernelspec": {
      "display_name": "Python [conda env:base] *",
      "language": "python",
      "name": "conda-base-py"
    },
    "language_info": {
      "codemirror_mode": {
        "name": "ipython",
        "version": 3
      },
      "file_extension": ".py",
      "mimetype": "text/x-python",
      "name": "python",
      "nbconvert_exporter": "python",
      "pygments_lexer": "ipython3",
      "version": "3.12.7"
    },
    "colab": {
      "provenance": [],
      "toc_visible": true
    }
  },
  "nbformat": 4,
  "nbformat_minor": 5
}