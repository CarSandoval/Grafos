{
  "cells": [
    {
      "cell_type": "markdown",
      "metadata": {
        "id": "view-in-github",
        "colab_type": "text"
      },
      "source": [
        "<a href=\"https://colab.research.google.com/github/CarSandoval/Grafos/blob/main/02_AlgoritmosDeGrafosEnPython_01.ipynb\" target=\"_parent\"><img src=\"https://colab.research.google.com/assets/colab-badge.svg\" alt=\"Open In Colab\"/></a>"
      ]
    },
    {
      "cell_type": "markdown",
      "id": "4895d230",
      "metadata": {
        "id": "4895d230"
      },
      "source": [
        "# 2.1 Algotirmo Dijkstra"
      ]
    },
    {
      "cell_type": "markdown",
      "id": "0e0e345c",
      "metadata": {
        "id": "0e0e345c"
      },
      "source": [
        "La Unidad 2 se enfoca en el estudio y la implementación de los principales algoritmos asociados a grafos, utilizando herramientas computacionales que permiten llevar los conceptos teóricos a la práctica. A partir de las representaciones eficientes de grafos revisadas en la primera unidad, se explorarán los algoritmos más relevantes para el análisis de propiedades estructurales y la resolución de problemas fundamentales.\n",
        "\n",
        "Se abordarán, en primer lugar, algoritmos clásicos para grafos no dirigidos, como la determinación de caminos, ciclos y componentes conexas. Posteriormente, se introducirá el análisis de grafos dirigidos, incorporando algoritmos para hallar componentes fuertemente conexas, ciclos orientados y rutas óptimas con pesos. Este recorrido incluye algoritmos fundamentales como los de Dijkstra y Bellman-Ford, cuya eficiencia y aplicabilidad dependen directamente de la representación del grafo y de la naturaleza de sus aristas.\n",
        "\n",
        "Asimismo, se examinarán medidas y métricas clave en grafos —grados, clustering, centralidad— no sólo como propiedades estructurales, sino también como herramientas esenciales para el análisis de datos reales y la caracterización de redes complejas.\n",
        "\n",
        "En conjunto, esta unidad permitirá a los estudiantes comprender los algoritmos más relevantes de la teoría de grafos, analizar su orden de complejidad temporal, y dominar su aplicación computacional para redes tanto abstractas como reales."
      ]
    },
    {
      "cell_type": "markdown",
      "id": "2ed49a6f",
      "metadata": {
        "id": "2ed49a6f"
      },
      "source": [
        "$x+=3$\n",
        "\n",
        "## hola como estas"
      ]
    },
    {
      "cell_type": "code",
      "execution_count": 4,
      "id": "8aa4cda1-edda-4e07-bce1-a381b58e8651",
      "metadata": {
        "colab": {
          "base_uri": "https://localhost:8080/"
        },
        "id": "8aa4cda1-edda-4e07-bce1-a381b58e8651",
        "outputId": "8c7034f1-55bb-4164-ec88-3d4d0bf03e79"
      },
      "outputs": [
        {
          "output_type": "stream",
          "name": "stdout",
          "text": [
            "4\n"
          ]
        }
      ],
      "source": [
        "x=3\n",
        "x=x+1\n",
        "print(x)"
      ]
    }
  ],
  "metadata": {
    "kernelspec": {
      "display_name": "Python [conda env:base] *",
      "language": "python",
      "name": "conda-base-py"
    },
    "language_info": {
      "codemirror_mode": {
        "name": "ipython",
        "version": 3
      },
      "file_extension": ".py",
      "mimetype": "text/x-python",
      "name": "python",
      "nbconvert_exporter": "python",
      "pygments_lexer": "ipython3",
      "version": "3.12.7"
    },
    "colab": {
      "provenance": [],
      "toc_visible": true,
      "include_colab_link": true
    }
  },
  "nbformat": 4,
  "nbformat_minor": 5
}