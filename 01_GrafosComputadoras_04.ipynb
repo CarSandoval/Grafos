{
 "cells": [
  {
   "cell_type": "markdown",
   "id": "1b40a40d",
   "metadata": {},
   "source": [
    "# 1.4 Complejidad espacial"
   ]
  },
  {
   "cell_type": "markdown",
   "id": "874f2da9",
   "metadata": {},
   "source": [
    "## 1.4.1 Introducción"
   ]
  },
  {
   "cell_type": "markdown",
   "id": "0ec61e53",
   "metadata": {},
   "source": [
    "## 1.4.2 Factibilidad en los algoritmos"
   ]
  },
  {
   "cell_type": "markdown",
   "id": "0e79bfc3",
   "metadata": {
    "vscode": {
     "languageId": "plaintext"
    }
   },
   "source": [
    "## 1.4.3 Ejemplos de algoritmos en espacio"
   ]
  },
  {
   "cell_type": "markdown",
   "id": "3fc55114",
   "metadata": {},
   "source": [
    "## 1.4.4 Complejidad en otros algoritmos"
   ]
  },
  {
   "cell_type": "markdown",
   "id": "d2e58519",
   "metadata": {
    "vscode": {
     "languageId": "plaintext"
    }
   },
   "source": [
    "## 1.4.5 Actividad"
   ]
  }
 ],
 "metadata": {
  "language_info": {
   "name": "python"
  }
 },
 "nbformat": 4,
 "nbformat_minor": 5
}
