{
 "cells": [
  {
   "cell_type": "markdown",
   "id": "4895d230",
   "metadata": {},
   "source": [
    "# 2.2 Componentes conexas en no dirigidos y fuertemente conexas en dígrafos (BFS, DFS)"
   ]
  },
  {
   "cell_type": "markdown",
   "id": "0e0e345c",
   "metadata": {},
   "source": [
    "La Unidad 2 se enfoca en el estudio y la implementación de los principales algoritmos asociados a grafos, utilizando herramientas computacionales que permiten llevar los conceptos teóricos a la práctica. A partir de las representaciones eficientes de grafos revisadas en la primera unidad, se explorarán los algoritmos más relevantes para el análisis de propiedades estructurales y la resolución de problemas fundamentales.\n",
    "\n",
    "Se abordarán, en primer lugar, algoritmos clásicos para grafos no dirigidos, como la determinación de caminos, ciclos y componentes conexas. Posteriormente, se introducirá el análisis de grafos dirigidos, incorporando algoritmos para hallar componentes fuertemente conexas, ciclos orientados y rutas óptimas con pesos. Este recorrido incluye algoritmos fundamentales como los de Dijkstra y Bellman-Ford, cuya eficiencia y aplicabilidad dependen directamente de la representación del grafo y de la naturaleza de sus aristas.\n",
    "\n",
    "Asimismo, se examinarán medidas y métricas clave en grafos —grados, clustering, centralidad— no sólo como propiedades estructurales, sino también como herramientas esenciales para el análisis de datos reales y la caracterización de redes complejas. \n",
    "\n",
    "En conjunto, esta unidad permitirá a los estudiantes comprender los algoritmos más relevantes de la teoría de grafos, analizar su orden de complejidad temporal, y dominar su aplicación computacional para redes tanto abstractas como reales."
   ]
  },
  {
   "cell_type": "markdown",
   "id": "2ed49a6f",
   "metadata": {},
   "source": []
  }
 ],
 "metadata": {
  "language_info": {
   "name": "python"
  }
 },
 "nbformat": 4,
 "nbformat_minor": 5
}
