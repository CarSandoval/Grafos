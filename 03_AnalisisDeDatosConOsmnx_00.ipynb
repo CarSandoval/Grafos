{
 "cells": [
  {
   "cell_type": "markdown",
   "id": "0a77add7",
   "metadata": {},
   "source": [
    "# 3 Analisis de datos con OSMnx"
   ]
  },
  {
   "cell_type": "markdown",
   "id": "610ae654",
   "metadata": {},
   "source": []
  }
 ],
 "metadata": {
  "language_info": {
   "name": "python"
  }
 },
 "nbformat": 4,
 "nbformat_minor": 5
}
