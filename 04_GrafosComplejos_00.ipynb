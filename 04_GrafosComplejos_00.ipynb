{
 "cells": [
  {
   "cell_type": "markdown",
   "id": "22cded61",
   "metadata": {},
   "source": [
    "# 4 Grafos complejos"
   ]
  },
  {
   "cell_type": "markdown",
   "id": "26e7672e",
   "metadata": {},
   "source": []
  }
 ],
 "metadata": {
  "language_info": {
   "name": "python"
  }
 },
 "nbformat": 4,
 "nbformat_minor": 5
}
